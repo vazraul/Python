{
  "nbformat": 4,
  "nbformat_minor": 0,
  "metadata": {
    "colab": {
      "provenance": [],
      "authorship_tag": "ABX9TyMzTDin9hOJRcA85lr3IOzo"
    },
    "kernelspec": {
      "name": "python3",
      "display_name": "Python 3"
    },
    "language_info": {
      "name": "python"
    }
  },
  "cells": [
    {
      "cell_type": "markdown",
      "source": [
        "Pratica de Manipulação, Tratamento de erros e exeções"
      ],
      "metadata": {
        "id": "OI1pojJCTpgx"
      }
    },
    {
      "cell_type": "markdown",
      "source": [
        "# Lendo arquivo"
      ],
      "metadata": {
        "id": "GIdgWj4WTsnD"
      }
    },
    {
      "cell_type": "code",
      "source": [],
      "metadata": {
        "id": "rkKXcVlQTpQB"
      },
      "execution_count": null,
      "outputs": []
    },
    {
      "cell_type": "code",
      "source": [
        "import os\n",
        "import pandas as pd\n",
        "import numpy as  np"
      ],
      "metadata": {
        "id": "Iqhavzh1Iw7P"
      },
      "execution_count": 1,
      "outputs": []
    },
    {
      "cell_type": "code",
      "execution_count": null,
      "metadata": {
        "id": "BQW1s9RZHCNW"
      },
      "outputs": [],
      "source": [
        "arquivo = open('/content/arquivo_R.txt','r')"
      ]
    },
    {
      "cell_type": "code",
      "source": [
        "print(os.path.relpath(arquivo.name))\n",
        "print(os.path.abspath(arquivo.name))"
      ],
      "metadata": {
        "colab": {
          "base_uri": "https://localhost:8080/"
        },
        "id": "-E5XC7c1I_yQ",
        "outputId": "c4e5cc4c-e1d8-4dc1-bef5-8670c1bf1c8d"
      },
      "execution_count": null,
      "outputs": [
        {
          "output_type": "stream",
          "name": "stdout",
          "text": [
            "arquivo_R.txt\n",
            "/content/arquivo_R.txt\n"
          ]
        }
      ]
    },
    {
      "cell_type": "code",
      "source": [
        "print('Nome do arqivo:', arquivo.name)\n",
        "print('Tipo do arquivo:', arquivo.mode)\n",
        "print('Arquivo fechado ?', arquivo.closed)\n",
        "\n",
        "#arquivo.close() comentando linha para o arquivo n fechar\n",
        "\n",
        "print('Arquivo fechado?', arquivo.closed)"
      ],
      "metadata": {
        "colab": {
          "base_uri": "https://localhost:8080/"
        },
        "id": "qQD9xo7WKjYx",
        "outputId": "867801b6-7b9b-484f-9bd6-9e7b19166815"
      },
      "execution_count": null,
      "outputs": [
        {
          "output_type": "stream",
          "name": "stdout",
          "text": [
            "Nome do arqivo: /content/arquivo_R.txt\n",
            "Tipo do arquivo: r\n",
            "Arquivo fechado ? False\n",
            "Arquivo fechado? False\n"
          ]
        }
      ]
    },
    {
      "cell_type": "code",
      "source": [
        "#arquivo.read()\n",
        "#arquivo.readline()\n",
        "#arquivo.readline()"
      ],
      "metadata": {
        "id": "fKpoltVlNoHY"
      },
      "execution_count": null,
      "outputs": []
    },
    {
      "cell_type": "code",
      "source": [
        "arquivo_r = arquivo.read()\n",
        "print(arquivo_r)\n",
        "arquivo.close()"
      ],
      "metadata": {
        "colab": {
          "base_uri": "https://localhost:8080/"
        },
        "id": "aYr3o4RsRf5h",
        "outputId": "c94fcf36-dc27-4e02-87ae-8d8bfc69d63c"
      },
      "execution_count": null,
      "outputs": [
        {
          "output_type": "stream",
          "name": "stdout",
          "text": [
            "arquivo teste da aula de RAD.\n",
            "TESTE TESTES TESTE\n",
            "Vamos VAMOS\n"
          ]
        }
      ]
    },
    {
      "cell_type": "code",
      "source": [
        "#abrindo novamente arquivo\n",
        "arquivo = open('/content/arquivo_R.txt','r')\n",
        "\n",
        "arquivo_rl = arquivo.readline()\n",
        "print(arquivo_rl)\n",
        "\n",
        "arquivo.close()"
      ],
      "metadata": {
        "colab": {
          "base_uri": "https://localhost:8080/"
        },
        "id": "xo5TO2baR9lh",
        "outputId": "4daaf233-bc0c-4931-f23c-8403a4c6d86c"
      },
      "execution_count": null,
      "outputs": [
        {
          "output_type": "stream",
          "name": "stdout",
          "text": [
            "arquivo teste da aula de RAD.\n",
            "\n"
          ]
        }
      ]
    },
    {
      "cell_type": "code",
      "source": [
        "#abrindo novamente arquivo\n",
        "arquivo = open('/content/arquivo_R.txt','r')\n",
        "\n",
        "arquivo_rls = arquivo.readlines()\n",
        "print(arquivo_rls)\n",
        "\n",
        "arquivo.close()"
      ],
      "metadata": {
        "colab": {
          "base_uri": "https://localhost:8080/"
        },
        "id": "J7wq6T3qSZ2y",
        "outputId": "ce9da844-fa30-40b8-da17-2bfbde719495"
      },
      "execution_count": null,
      "outputs": [
        {
          "output_type": "stream",
          "name": "stdout",
          "text": [
            "['arquivo teste da aula de RAD.\\n', 'TESTE TESTES TESTE\\n', 'Vamos VAMOS']\n"
          ]
        }
      ]
    },
    {
      "cell_type": "code",
      "source": [
        "#abrindo arquivo novamente\n",
        "arquivo = open('/content/arquivo_R.txt','r')\n",
        "\n",
        "for linha in arquivo:\n",
        "  print(f'Número de caracteres',len(linha),repr(linha))\n",
        "\n",
        "arquivo.close()"
      ],
      "metadata": {
        "colab": {
          "base_uri": "https://localhost:8080/"
        },
        "id": "av6BjWI4O-X5",
        "outputId": "bdefe3db-8a91-4e98-99e2-7766b0771223"
      },
      "execution_count": null,
      "outputs": [
        {
          "output_type": "stream",
          "name": "stdout",
          "text": [
            "Número de caracteres 30 'arquivo teste da aula de RAD.\\n'\n",
            "Número de caracteres 19 'TESTE TESTES TESTE\\n'\n",
            "Número de caracteres 11 'Vamos VAMOS'\n"
          ]
        }
      ]
    },
    {
      "cell_type": "markdown",
      "source": [
        "# Escrevendo arquivo"
      ],
      "metadata": {
        "id": "PjoldoCoTvRh"
      }
    },
    {
      "cell_type": "markdown",
      "source": [
        "O modo w abre o arquivo para escrita, truncando o arquivo em primeiro lugar. Caso ele não exista, será criado um.\n",
        "O modo a abre o arquivo para escrita, acrescentando conteúdo ao final dele, caso ele exista; do contrário, será criado um arquivo."
      ],
      "metadata": {
        "id": "t-8zvhKFUdN5"
      }
    },
    {
      "cell_type": "code",
      "source": [
        "ar_escrita = open('/content/arquivo_W.txt', 'w')"
      ],
      "metadata": {
        "id": "3ggaaYaYUc9Q"
      },
      "execution_count": null,
      "outputs": []
    },
    {
      "cell_type": "code",
      "source": [
        "ar_escrita.write('Vamos add a prmeira linha')\n",
        "ar_escrita.write('\\n Agora add a segunda linha')\n",
        "ar_escrita.write('\\n ultima linha TESTESTESTESTESTESTE')\n",
        "ar_escrita.close()"
      ],
      "metadata": {
        "id": "oKXGNq1TUWBa"
      },
      "execution_count": null,
      "outputs": []
    },
    {
      "cell_type": "code",
      "source": [
        "ar_escrita = open('/content/arquivo_W.txt', 'w')"
      ],
      "metadata": {
        "id": "R_SKYfCQVhbq"
      },
      "execution_count": null,
      "outputs": []
    },
    {
      "cell_type": "code",
      "source": [
        "linhas = ['Vamos tentar um metodo diferente', '\\nGAGAGAGAQAGAGAGAG']\n",
        "\n",
        "ar_escrita.writelines(linhas)\n",
        "\n",
        "ar_escrita.close()"
      ],
      "metadata": {
        "id": "QyUy5g4sVjD6"
      },
      "execution_count": null,
      "outputs": []
    },
    {
      "cell_type": "markdown",
      "source": [
        "Iniciamos com a palavra reservada with, seguida da função open, a palavra reservada as, um nome de variável que receberá o objeto do tipo arquivo e dois pontos. Todo o código indentado posteriormente está dentro do contexto do with, no qual o arquivo referenciado pela variável nome estará disponível."
      ],
      "metadata": {
        "id": "GHfy-gwvYPTb"
      }
    },
    {
      "cell_type": "code",
      "source": [
        "with open('/content/arquivo_R.txt', 'r') as abrir_com_with:\n",
        "  for linha in abrir_com_with:\n",
        "    print(linhas)\n",
        "print('\\n Fim da execução')"
      ],
      "metadata": {
        "colab": {
          "base_uri": "https://localhost:8080/"
        },
        "id": "MNCuMUq4YPvC",
        "outputId": "6e2d89d7-ed2d-4a56-ffc5-6080db3c52cb"
      },
      "execution_count": null,
      "outputs": [
        {
          "output_type": "stream",
          "name": "stdout",
          "text": [
            "['Vamos tentar um metodo diferente', '\\nGAGAGAGAQAGAGAGAG']\n",
            "['Vamos tentar um metodo diferente', '\\nGAGAGAGAQAGAGAGAG']\n",
            "['Vamos tentar um metodo diferente', '\\nGAGAGAGAQAGAGAGAG']\n",
            "\n",
            " Fim da execução\n"
          ]
        }
      ]
    },
    {
      "cell_type": "markdown",
      "source": [
        "## Método strip\n",
        "\n",
        "Dependendo do objetivo, esses caracteres são considerados lixo e podem atrapalhar o processamento que desejamos realizar. Para remover esses caracteres e também espaços em branco adicionais, o tipo str disponibiliza o método strip(). O método strip remove os caracteres do início e do final da linha. Observe o uso deste método no exemplo a seguir. Clique nas setas para acompanhar cada ação:"
      ],
      "metadata": {
        "id": "ArWGYH-1fxOk"
      }
    },
    {
      "cell_type": "code",
      "source": [
        "with open('/content/arquivo_R.txt', 'r') as ar_stripp:\n",
        "\n",
        "  print(\"Arquivo lido com strip\")\n",
        "\n",
        "  for linha in ar_stripp:\n",
        "\n",
        "    ar_com_strip = linha.strip()\n",
        "    print(repr(ar_com_strip))\n"
      ],
      "metadata": {
        "colab": {
          "base_uri": "https://localhost:8080/"
        },
        "id": "RGQ44pEgfyWs",
        "outputId": "934228f5-db5a-41c6-9cf4-58641e1a4e7e"
      },
      "execution_count": null,
      "outputs": [
        {
          "output_type": "stream",
          "name": "stdout",
          "text": [
            "Arquivo lido com strip\n",
            "'arquivo teste da aula de RAD.'\n",
            "'TESTE TESTES TESTE'\n",
            "'Vamos VAMOS'\n"
          ]
        }
      ]
    },
    {
      "cell_type": "code",
      "source": [
        "with open('/content/arquivo_WW.txt', 'r') as ww:\n",
        "  # contador\n",
        "  qtd = 0\n",
        "  for linha in ww:\n",
        "    if linha:\n",
        "      qtd += 1\n",
        "    print(repr(linha))\n",
        "\n",
        "print('Toral linhas', qtd)"
      ],
      "metadata": {
        "colab": {
          "base_uri": "https://localhost:8080/"
        },
        "id": "kRtOVU4rhXxl",
        "outputId": "adf3db61-9cfe-47bf-d4a2-4a382c254dab"
      },
      "execution_count": null,
      "outputs": [
        {
          "output_type": "stream",
          "name": "stdout",
          "text": [
            "'Vamos tentar um metodo diferente\\n'\n",
            "' GAGAGAGAQAGAGAGAG\\n'\n",
            "'\\n'\n",
            "'\\n'\n",
            "'\\n'\n",
            "'UMA LINHA SKKS\\n'\n",
            "'\\n'\n",
            "'Sei que é bom para o futuro\\n'\n",
            "'\\n'\n",
            "'Não desista'\n",
            "Toral linhas 10\n"
          ]
        }
      ]
    },
    {
      "cell_type": "code",
      "source": [
        "with open('/content/arquivo_WW.txt', 'r') as ww:\n",
        "  # contador\n",
        "  qtd = 0\n",
        "  for linha in ww:\n",
        "    if linha.strip():\n",
        "      qtd += 1\n",
        "    print(repr(linha.strip()))\n",
        "\n",
        "print('Toral linhas reais', qtd)"
      ],
      "metadata": {
        "colab": {
          "base_uri": "https://localhost:8080/"
        },
        "id": "lt4ZrPYLk1P1",
        "outputId": "6ededccc-d22a-4f49-9c35-ab25b740ce4f"
      },
      "execution_count": null,
      "outputs": [
        {
          "output_type": "stream",
          "name": "stdout",
          "text": [
            "'Vamos tentar um metodo diferente'\n",
            "'GAGAGAGAQAGAGAGAG'\n",
            "''\n",
            "''\n",
            "''\n",
            "'UMA LINHA SKKS'\n",
            "''\n",
            "'Sei que é bom para o futuro'\n",
            "''\n",
            "'Não desista'\n",
            "Toral linhas reais 5\n"
          ]
        }
      ]
    },
    {
      "cell_type": "markdown",
      "source": [
        "##Métodos count e split\n",
        "\n",
        "Outra atividade muito comum na manipulação de arquivos é a contagem do número de vezes que determinada palavra aparece. O Python disponibiliza o método count para strings, que recebe como parâmetro a palavra que desejamos contar e retorna o total de ocorrências dela. Sua sintaxe é a seguinte:"
      ],
      "metadata": {
        "id": "oq1EAG7plJkf"
      }
    },
    {
      "cell_type": "code",
      "source": [
        "with open('/content/arquivo_WW.txt', 'r') as ar_count:\n",
        "  ar_conteudo = ar_count.read()\n",
        "  contador = ar_conteudo.count('que')\n",
        "  print('Essa palavra aparece',contador)"
      ],
      "metadata": {
        "colab": {
          "base_uri": "https://localhost:8080/"
        },
        "id": "PNVU4bDjlqXU",
        "outputId": "60b03b6b-15dc-499f-9e6a-bece4b901297"
      },
      "execution_count": null,
      "outputs": [
        {
          "output_type": "stream",
          "name": "stdout",
          "text": [
            "Essa palavra aparece 1\n"
          ]
        }
      ]
    },
    {
      "cell_type": "markdown",
      "source": [
        "Apesar de ser muito simples a utilização do método count do tipo str, pode gerar alguns efeitos indesejáveis, pois esse método também conta as palavras que contêm parte da string passada como argumento.\n",
        "\n",
        "extension\n",
        "Exemplo\n",
        "Considere a frase: “Eu amo comer amoras no café da manhã”. Se utilizarmos o método count, com a string “amo” como argumento, o retorno será 2, pois o método irá considerar tanto a palavra amo quanto a palavra amoras.\n",
        "\n",
        "Para contornar esse problema, podemos “quebrar” uma frase em palavras e depois verificar se cada palavra é igual à string que buscamos.\n",
        "\n",
        "Isso nos leva a outro método muito utilizado em processamento de textos, o método split(), que é usado para quebrar uma string em partes menores, retornando uma lista com essas partes. Sua sintaxe é a seguinte:"
      ],
      "metadata": {
        "id": "R0JkH-pCm95P"
      }
    },
    {
      "cell_type": "code",
      "source": [
        "'''lista_termos = variavel_string.split(separador)'''"
      ],
      "metadata": {
        "id": "RErbxgqkm_6k"
      },
      "execution_count": null,
      "outputs": []
    },
    {
      "cell_type": "markdown",
      "source": [
        "No exemplo, a variavel_string é uma variável do tipo str, e separador é uma string que desejamos utilizar como ponto de quebra do texto. O retorno desse método é uma lista de strings.\n",
        "\n",
        "Digamos que desejamos usar o método split com separador ‘–‘ na frase: “Amo futebol – Gosto de basquete”. O resultado seria uma lista em que o primeiro elemento é a string “Amo futebol ” e o segundo elemento é string “ Gosto de basquete”. Caso nenhum separador seja passado como argumento, o Python irá utilizar um ou mais espaços como separador padrão."
      ],
      "metadata": {
        "id": "qD9LS-AtnCQc"
      }
    },
    {
      "cell_type": "code",
      "source": [
        "frase1 = 'Eu amo comer amoras e maracuja'\n",
        "lista_palavras = frase1.split()\n",
        "print(lista_palavras)\n",
        "\n",
        "frase2 = 'Continue estudando sempre que puder'\n",
        "lista_palavras2 = frase2.split()\n",
        "print(lista_palavras2)\n",
        "\n",
        "frase3 = 'sempre,continue,objetivo,sucesso,vitoria,xablau'\n",
        "lista_3 = frase3.split(',')\n",
        "print(lista_3)"
      ],
      "metadata": {
        "colab": {
          "base_uri": "https://localhost:8080/"
        },
        "id": "Ix4yLLddnkDG",
        "outputId": "ee7fc371-5f7e-431d-8ff4-38d0e65f2bb3"
      },
      "execution_count": null,
      "outputs": [
        {
          "output_type": "stream",
          "name": "stdout",
          "text": [
            "['Eu', 'amo', 'comer', 'amoras', 'e', 'maracuja']\n",
            "['Continue', 'estudando', 'sempre', 'que', 'puder']\n",
            "['sempre', 'continue', 'objetivo', 'sucesso', 'vitoria', 'xablau']\n"
          ]
        }
      ]
    },
    {
      "cell_type": "code",
      "source": [
        "with open('/content/arquivo_WWW.txt', 'r') as contagem:\n",
        "  lista_4 = contagem.read()\n",
        "  conta = lista_4.split()\n",
        "  conta1 = conta.count('que')\n",
        "print(conta1 ,'vezes a palavra que se repete')"
      ],
      "metadata": {
        "colab": {
          "base_uri": "https://localhost:8080/"
        },
        "id": "cxNmt01OoXNm",
        "outputId": "773f7379-a340-481b-ffb3-33370bee61b4"
      },
      "execution_count": null,
      "outputs": [
        {
          "output_type": "stream",
          "name": "stdout",
          "text": [
            "3 vezes a palavra que se repete\n"
          ]
        }
      ]
    },
    {
      "cell_type": "markdown",
      "source": [
        "## Método join\n",
        "\n",
        "Assim como há a necessidade de quebrar uma frase em uma lista de palavras, podem existir situações em que ocorra o inverso, ou seja, temos uma lista de palavras ou frases e desejamos concatená-las em uma única string.\n",
        "\n",
        "Para essa operação, utilizamos o método join do tipo str, que retorna uma única string com todos os elementos da lista concatenados, utilizando determinado conector. Sua sintaxe é a seguinte:"
      ],
      "metadata": {
        "id": "XVu__V2Cqs71"
      }
    },
    {
      "cell_type": "code",
      "source": [
        "'''string_final = “conector”.join(iteravel)'''"
      ],
      "metadata": {
        "colab": {
          "base_uri": "https://localhost:8080/",
          "height": 35
        },
        "id": "TbKSTffdqoNk",
        "outputId": "2e041f47-6202-4f92-b5ed-965821eb0d31"
      },
      "execution_count": null,
      "outputs": [
        {
          "output_type": "execute_result",
          "data": {
            "text/plain": [
              "'string_final = “conector”.join(iteravel)'"
            ],
            "application/vnd.google.colaboratory.intrinsic+json": {
              "type": "string"
            }
          },
          "metadata": {},
          "execution_count": 213
        }
      ]
    },
    {
      "cell_type": "markdown",
      "source": [
        "Em que “conector” é a string que será utilizada entre os elementos da lista que serão concatenados (ex. ', ') e iteravel é um iterável, como uma lista ou tupla."
      ],
      "metadata": {
        "id": "t8zBHS5BqsAN"
      }
    },
    {
      "cell_type": "code",
      "source": [
        "minha_lista = ['Arroz', 'Feijão', 'Macarrão']\n",
        "\n",
        "texto1 = ', '.join(minha_lista) # colocando , (vigula) entre os elemtentos da lista\n",
        "with open('texto1.txt', 'w') as arquivo: #abrindo arquivo q n existe, logo sera criado um\n",
        "    arquivo.write(texto1) #escrevendo arquivo\n",
        "\n",
        "texto2 = '\\n'.join(minha_lista) # colocando quebra de linah entre os elementos da lista\n",
        "with open('texto2.txt', 'w') as arquivo: # abrindo arquivo q n existe, logo sera criado um\n",
        "    arquivo.write(texto2) # escrevendo arquivo"
      ],
      "metadata": {
        "id": "GR07EcmhsA5M"
      },
      "execution_count": null,
      "outputs": []
    },
    {
      "cell_type": "markdown",
      "source": [
        "Os resultados foram dois arquivos"
      ],
      "metadata": {
        "id": "uT7VSuqjuNQ9"
      }
    },
    {
      "cell_type": "code",
      "source": [
        "with open('/content/texto1.txt', 'r') as tx1:\n",
        "  print(tx1.read())"
      ],
      "metadata": {
        "colab": {
          "base_uri": "https://localhost:8080/"
        },
        "id": "BRCv-g42tQwB",
        "outputId": "df24d721-f0a2-463a-a05d-e71fbcc34b49"
      },
      "execution_count": null,
      "outputs": [
        {
          "output_type": "stream",
          "name": "stdout",
          "text": [
            "Arroz, Feijão, Macarrão\n"
          ]
        }
      ]
    },
    {
      "cell_type": "code",
      "source": [
        "with open('/content/texto2.txt', 'r') as tx2:\n",
        "  print(tx2.read())"
      ],
      "metadata": {
        "colab": {
          "base_uri": "https://localhost:8080/"
        },
        "id": "8uxV0gabtnnJ",
        "outputId": "3d6f59ca-92c9-4e75-b2d9-8624540d51cb"
      },
      "execution_count": null,
      "outputs": [
        {
          "output_type": "stream",
          "name": "stdout",
          "text": [
            "Arroz\n",
            "Feijão\n",
            "Macarrão\n"
          ]
        }
      ]
    },
    {
      "cell_type": "markdown",
      "source": [
        "## F-strings\n",
        "\n",
        "O objetivo principal da criação das f-strings foi facilitar a formatação de strings.\n",
        "\n",
        "Para definimos uma variável f-string, precisamos incluir, antes das aspas que definem uma string, a letra f (ou F), por exemplo:"
      ],
      "metadata": {
        "id": "I54ImNPTugr_"
      }
    },
    {
      "cell_type": "code",
      "source": [
        "'''minha_string = f”Olá Mundo {expr}”'''"
      ],
      "metadata": {
        "id": "QR96lJkjukXv"
      },
      "execution_count": null,
      "outputs": []
    },
    {
      "cell_type": "code",
      "source": [
        "nome = \"João\"\n",
        "\n",
        "minha_string = \"Olá, \" + nome + \".\"\n",
        "minha_fstring1 = f\"Olá, {nome}.\"\n",
        "minha_fstring2 = f\"Olá, {nome.upper()}.\"\n",
        "minha_fstring3 = f\"Quantos anos você tem? {10 + 8}.\"\n",
        "minha_fstring4 = f\"O número 2 é maior que o número 1? {2 > 1}\"\n",
        "minha_fstring5 = f\"O número 2 está contido na lista [4, 5, 6]? {2 in [4, 5, 6]}\"\n",
        "\n",
        "print(minha_string)\n",
        "print(minha_fstring1)\n",
        "print(minha_fstring2)\n",
        "print(minha_fstring3)\n",
        "print(minha_fstring4)\n",
        "print(minha_fstring5)\n"
      ],
      "metadata": {
        "colab": {
          "base_uri": "https://localhost:8080/"
        },
        "id": "f35E6b33vBpm",
        "outputId": "4c82d671-d1c7-4bcb-abb5-f7acdfd626c1"
      },
      "execution_count": null,
      "outputs": [
        {
          "output_type": "stream",
          "name": "stdout",
          "text": [
            "Olá, João.\n",
            "Olá, João.\n",
            "Olá, JOÃO.\n",
            "Quantos anos você tem? 18.\n",
            "O número 2 é maior que o número 1? True\n",
            "O número 2 está contido na lista [4, 5, 6]? False\n"
          ]
        }
      ]
    },
    {
      "cell_type": "code",
      "source": [
        "from datetime import datetime\n",
        "\n",
        "frutas = ['Jabuticaba', 'laranja', 'Uva', 'Banana']\n",
        "for fruta in frutas:\n",
        "    minha_fruta = f\"Nome: {fruta:12} - Número de letras: {len(fruta): 3}\"\n",
        "    print(minha_fruta)\n",
        "\n",
        "print()\n",
        "\n",
        "pi = 3.1415\n",
        "meu_numero = f'O número PI é: {pi:.1f}'\n",
        "meu_numero_deslocado = f'O número PI deslocado é: {pi:6.1f}'\n",
        "meu_numero_preciso = f'O número PI mais preciso é: {pi:.4f}'\n",
        "print(meu_numero)\n",
        "print(meu_numero_deslocado)\n",
        "print(meu_numero_preciso)\n",
        "\n",
        "print()\n",
        "\n",
        "data = datetime.now()\n",
        "minha_data = f'A data de hoje é {data}'\n",
        "minha_data_formatada = f'A data de hoje formatada é {data:%d/%m/%Y}'\n",
        "print(minha_data)\n",
        "print(minha_data_formatada)\n"
      ],
      "metadata": {
        "colab": {
          "base_uri": "https://localhost:8080/"
        },
        "id": "e_5ilvoMvowW",
        "outputId": "2af22eca-2068-44fa-af1b-e5445509a74f"
      },
      "execution_count": null,
      "outputs": [
        {
          "output_type": "stream",
          "name": "stdout",
          "text": [
            "Nome: Jabuticaba   - Número de letras:  10\n",
            "Nome: laranja      - Número de letras:   7\n",
            "Nome: Uva          - Número de letras:   3\n",
            "Nome: Banana       - Número de letras:   6\n",
            "\n",
            "O número PI é: 3.1\n",
            "O número PI deslocado é:    3.1\n",
            "O número PI mais preciso é: 3.1415\n",
            "\n",
            "A data de hoje é 2023-07-24 21:11:57.103260\n",
            "A data de hoje formatada é 24/07/2023\n"
          ]
        }
      ]
    },
    {
      "cell_type": "markdown",
      "source": [
        "Para facilitar o entendimento, o script21 foi dividido em três trechos. O primeiro trecho, entre as linhas 3 e 6, trata da formatação de largura do conteúdo de expressões, que serve, principalmente, para alinhar conteúdo de texto. No segundo trecho, das linhas 10 a 16, mostramos como formatar floats. No terceiro trecho, das linhas 20 a 24, mostramos como formatar datas. Confira cada trecho citado:"
      ],
      "metadata": {
        "id": "O0kRIchrv24O"
      }
    },
    {
      "cell_type": "markdown",
      "source": [
        "# Nova seção"
      ],
      "metadata": {
        "id": "AgyRsngA07PF"
      }
    },
    {
      "cell_type": "markdown",
      "source": [
        "##Tratamento de exceções e outras operações"
      ],
      "metadata": {
        "id": "I_kj-EfR024V"
      }
    },
    {
      "cell_type": "markdown",
      "source": [
        "\n",
        "Ao final deste módulo, você será capaz de descrever as exceções na manipulação de arquivos e outras operações."
      ],
      "metadata": {
        "id": "KLg-9_5k00XZ"
      }
    },
    {
      "cell_type": "code",
      "source": [
        "print(\"Abrindo um arquivo\")\n",
        "\n",
        "try:\n",
        "  open('nãoexiste.txt','r')\n",
        "  print('Arquivo aberto')\n",
        "except FileNotFoundError as erro:\n",
        "  print('Arquivo não encontrado')\n",
        "  print('\\nDescrição:',erro, '\\n')\n",
        "\n",
        "\n",
        "print(\"Fim da execução\")"
      ],
      "metadata": {
        "colab": {
          "base_uri": "https://localhost:8080/"
        },
        "id": "cR6Nh7pM2llQ",
        "outputId": "82304505-a3e5-4603-9fc2-e39831f99f35"
      },
      "execution_count": null,
      "outputs": [
        {
          "output_type": "stream",
          "name": "stdout",
          "text": [
            "Abrindo um arquivo\n",
            "Arquivo não encontrado\n",
            "\n",
            "Descrição: [Errno 2] No such file or directory: 'nãoexiste.txt' \n",
            "\n",
            "Fim da execução\n"
          ]
        }
      ]
    },
    {
      "cell_type": "markdown",
      "source": [
        "Saiba que o Python só consegue tratar a exceção caso o erro esteja mapeado em algum except. Se o interpretador não encontrar o except adequado, será gerado um erro, e o programa será interrompido.\n",
        "\n",
        "Um problema clássico que ocorre quando lidamos com arquivos é tentar alterar o conteúdo de um arquivo quando ele está aberto em outro programa. No caso do sistema operacional Windows 10, é lançada uma exceção sobre permissão de acesso.\n",
        "\n",
        "A seguir, vamos criar mais um except para tratar o caso de não termos permissão para abrir um arquivo, mostrando o tratamento do problema levantado no parágrafo anterior.\n",
        "\n",
        "Neste exemplo, tentamos abrir o arquivo teste.pdf para escrita, linha 4, porém ele já está aberto em outro programa:"
      ],
      "metadata": {
        "id": "IhqpX3Th3lPz"
      }
    },
    {
      "cell_type": "markdown",
      "source": [
        "##Operações adicionais em arquivos\n",
        "\n",
        "Além das opções para leitura e escrita em arquivos, o Python disponibiliza um conjunto de operações adicionais, como renomear e apagar arquivo, além de operações em diretórios, como listar arquivos de diretórios, criar diretórios etc.\n",
        "\n",
        "A partir de agora, apresentaremos algumas dessas operações.\n",
        "\n",
        "Vamos iniciar pela operação de remover um arquivo, que está disponível por meio da função remove do módulo os do Python.\n",
        "\n",
        "A função remove tem a seguinte sintaxe:"
      ],
      "metadata": {
        "id": "0WYbOGSE5btn"
      }
    },
    {
      "cell_type": "code",
      "source": [
        "'''os.remove(caminho)'''"
      ],
      "metadata": {
        "id": "jcYudxY35fQw"
      },
      "execution_count": null,
      "outputs": []
    },
    {
      "cell_type": "code",
      "source": [
        "try:\n",
        "  os.remove('/content/texto2.txt')\n",
        "  print('Arquivo removido com sucesso')\n",
        "except FileNotFoundError as erro:\n",
        "  print('Arquivo não encontrado')\n",
        "  print('\\nDescrição', erro, '\\n')\n",
        "except PermissionError as erro:\n",
        "  print('Permissão negada')\n",
        "  print('\\nDescrição', erro,'\\n')\n",
        "except IsADirectoryError as erro:\n",
        "  print('Não é possivel remover diretorios com REMOVE')\n",
        "  print('\\nDescrição', erro, '\\n')"
      ],
      "metadata": {
        "colab": {
          "base_uri": "https://localhost:8080/"
        },
        "id": "gc_sNDEd7i34",
        "outputId": "0f8d2687-a877-45e8-f21a-232dd169888d"
      },
      "execution_count": null,
      "outputs": [
        {
          "output_type": "stream",
          "name": "stdout",
          "text": [
            "Arquivo removido com sucesso\n"
          ]
        }
      ]
    },
    {
      "cell_type": "markdown",
      "source": [
        "Nesse exemplo, temos o nome do módulo os, seguido de um ponto e o nome da função remove. Como parâmetro, a função espera o caminho para um arquivo. Para remover diretório, devemos utilizar outra função, rmdir.\n",
        "\n",
        "Veja a função remove na imagem abaixo. Iniciamos o script com a importação do módulo os, na linha 1. Aqui vamos remover o arquivo teste.txt, que se encontra no mesmo diretório do nosso script. Observe a arvore de diretórios à esquerda:"
      ],
      "metadata": {
        "id": "wkMW6qFo5kmo"
      }
    },
    {
      "cell_type": "markdown",
      "source": [
        "##Manipulação de diretórios\n",
        "###Criando e removendo diretórios\n",
        "Trabalhar com arquivos significa trabalhar com diretórios. Vejamos as principais funcionalidades relacionadas à manipulação de diretórios em Python começando pela criação e remoção de um diretório.\n",
        "\n",
        "Para criar um diretório, utilizamos a função mkdir do módulo os, enquanto, para remover um diretório, utilizamos a função rmdir, também do módulo os.\n",
        "\n",
        "A sintaxe dessas duas funções são as seguintes:"
      ],
      "metadata": {
        "id": "TXs-ennb9dIK"
      }
    },
    {
      "cell_type": "code",
      "source": [
        "'''\n",
        "  os.mkdir(caminho)\n",
        "\n",
        "  os.rmdir(caminho)\n",
        "'''"
      ],
      "metadata": {
        "id": "whUYXoP49nep"
      },
      "execution_count": null,
      "outputs": []
    },
    {
      "cell_type": "markdown",
      "source": [
        "Nesse exemplo, temos o nome do módulo os, seguido de um ponto e o nome da função mkdir ou rmdir. Como parâmetro, a função espera o caminho para o diretório."
      ],
      "metadata": {
        "id": "GeosgOwE9ysJ"
      }
    },
    {
      "cell_type": "code",
      "source": [
        "try:\n",
        "  os.mkdir('daud/caminho_caminho')\n",
        "  print('Diretorio criado com sucesso')\n",
        "except PermissionError as erro:\n",
        "  print('Permissão negada')\n",
        "  print('\\nDescrição', erro,'\\n')\n",
        "except FileExistsError as erro:\n",
        "  print('Diretorio já existente')\n",
        "  print('\\nDescrição', erro, '\\n')\n",
        "except FileNotFoundError as erro:\n",
        "  print('Impossivel encontrar o diretório especificado')\n",
        "  print('\\nDescrição', erro, '\\n')"
      ],
      "metadata": {
        "colab": {
          "base_uri": "https://localhost:8080/"
        },
        "id": "7DZOZoxL-F7p",
        "outputId": "a3825e95-ec20-43cc-dfa2-745f061476d5"
      },
      "execution_count": null,
      "outputs": [
        {
          "output_type": "stream",
          "name": "stdout",
          "text": [
            "Impossivel encontrar o diretório especificado\n",
            "\n",
            "Descrição [Errno 2] No such file or directory: 'daud/caminho_caminho' \n",
            "\n"
          ]
        }
      ]
    }
  ]
}