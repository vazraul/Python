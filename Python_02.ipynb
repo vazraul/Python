{
  "nbformat": 4,
  "nbformat_minor": 0,
  "metadata": {
    "colab": {
      "provenance": [],
      "authorship_tag": "ABX9TyOnHvNV5g4trtBawpelAAdM"
    },
    "kernelspec": {
      "name": "python3",
      "display_name": "Python 3"
    },
    "language_info": {
      "name": "python"
    }
  },
  "cells": [
    {
      "cell_type": "code",
      "execution_count": null,
      "metadata": {
        "id": "GNgyZxggB_F3"
      },
      "outputs": [],
      "source": [
        "import sqlite3 as conector"
      ]
    },
    {
      "cell_type": "markdown",
      "source": [
        "Como o SQLite trabalha com arquivo e não tem suporte à autenticação, para se conectar a um banco de dados SQLite, basta chamar a função connect do módulo sqlite3, passando como argumento o caminho para o arquivo que contém o banco de dados.\n",
        "\n",
        "Veja a sintaxe a seguir:"
      ],
      "metadata": {
        "id": "ibw_NrPdGcP0"
      }
    },
    {
      "cell_type": "code",
      "source": [
        "import sqlite3\n",
        "conexao = sqlite3.connect('meu_banco.db')"
      ],
      "metadata": {
        "id": "unJil_lNGcDZ"
      },
      "execution_count": null,
      "outputs": []
    },
    {
      "cell_type": "markdown",
      "source": [
        "Pronto! Isso é o suficiente para termos uma conexão com o banco de dados meu_banco.db e iniciar o envio de comandos SQL para criar tabelas e inserir registros.\n",
        "\n",
        "Caso o arquivo não exista, ele será criado automaticamente! O arquivo criado pode ser copiado e compartilhado.\n",
        "\n",
        "Se quisermos criar um banco de dados em memória, que será criado para toda execução do programa, basta utilizar o comando conexao = sqlite3.connect(':memory:')."
      ],
      "metadata": {
        "id": "llnJU3-1GiN0"
      }
    },
    {
      "cell_type": "code",
      "source": [
        "import sqlite3 as conector\n",
        "\n",
        "try:\n",
        "    # Abertura de conexão e aquisição de cursor\n",
        "    conexao = conector.connect(\"./meu_banco.db\")\n",
        "    cursor = conexao.cursor()\n",
        "\n",
        "    # Execução de um comando: SELECT... CREATE ...\n",
        "    comando = '''CREATE TABLE Pessoa (\n",
        "                    cpf INTEGER NOT NULL,\n",
        "                    nome TEXT NOT NULL,\n",
        "                    nascimento DATE NOT NULL,\n",
        "                    oculos BOOLEAN NOT NULL,\n",
        "                    PRIMARY KEY (cpf)\n",
        "                    );'''\n",
        "\n",
        "    cursor.execute(comando)\n",
        "\n",
        "    # Efetivação do comando\n",
        "    conexao.commit()\n",
        "\n",
        "except conector.DatabaseError as err:\n",
        "    print(\"Erro de banco de dados\", err)\n",
        "\n",
        "finally:\n",
        "    # Fechamento das conexões\n",
        "    if conexao:\n",
        "        cursor.close()\n",
        "        conexao.close()"
      ],
      "metadata": {
        "id": "rEl_B04BHgis"
      },
      "execution_count": null,
      "outputs": []
    },
    {
      "cell_type": "code",
      "source": [
        "# Comando SQL para visualizar tabelas\n",
        "comando_sql = '''\n",
        "    SELECT name FROM sqlite_master WHERE type='table' ORDER BY name\n",
        "'''\n",
        "# Abertura de conexão e aquisição de cursor\n",
        "conexao = conector.connect(\"./meu_banco.db\")\n",
        "cursor = conexao.cursor()\n",
        "\n",
        "# Executar o comando SQL\n",
        "print(cursor.execute(comando_sql))\n",
        "\n",
        "# Obter todos os resultados da consulta\n",
        "tabelas = cursor.fetchall()\n",
        "\n",
        "# Exibir os nomes de todas as tabelas\n",
        "for tabela in tabelas:\n",
        "    print(tabela[0])\n",
        "\n",
        "#Fechando conexão\n",
        "cursor.close()\n",
        "conexao.close()"
      ],
      "metadata": {
        "colab": {
          "base_uri": "https://localhost:8080/"
        },
        "id": "4056HHcwKWrW",
        "outputId": "17e92232-5162-4e85-b901-5acf3d6dbb13"
      },
      "execution_count": null,
      "outputs": [
        {
          "output_type": "stream",
          "name": "stdout",
          "text": [
            "<sqlite3.Cursor object at 0x7e36c84ac6c0>\n",
            "Pessoa\n"
          ]
        }
      ]
    },
    {
      "cell_type": "code",
      "source": [
        "conexao = conector.connect(\"./meu_banco.db\")\n",
        "cursor = conexao.cursor()\n",
        "\n",
        "comando = '''CREATE TABLE Marca (\n",
        "  id INTEGER NOT NULL,\n",
        "  nome TEXT NOT NULL,\n",
        "  sigla CHARACTER(2) NOT NULL,\n",
        "  PRIMARY KEY (id)\n",
        ")'''\n",
        "\n",
        "cursor.execute(comando)\n",
        "\n",
        "conexao.commit()\n",
        "\n",
        "cursor.close()\n",
        "conexao.close()"
      ],
      "metadata": {
        "id": "coqDAWClTS2C"
      },
      "execution_count": null,
      "outputs": []
    },
    {
      "cell_type": "code",
      "source": [
        "conexao = conector.connect(\"./meu_banco.db\")\n",
        "cursor = conexao.cursor()\n",
        "\n",
        "comando = '''CREATE TABLE Veiculo (\n",
        "  placa CHARACTER(7) NOT NULL,\n",
        "  ano INTERGER NOT NULL,\n",
        "  cor TEXT NOT NULL,\n",
        "  proprietario INTERGER NOT NULL,\n",
        "  marca INTEGER NOT NULL,\n",
        "  PRIMARY KEY (placa),\n",
        "  FOREIGN KEY(proprietario) REFERENCES Pessoas(cpf),\n",
        "  FOREIGN KEY(marca) REFERENCES Marca(id)\n",
        "); '''\n",
        "\n",
        "cursor.execute(comando)\n",
        "\n",
        "conexao.commit()\n",
        "\n",
        "cursor.close()\n",
        "conexao.close()"
      ],
      "metadata": {
        "id": "mUyJeStgYA_p"
      },
      "execution_count": null,
      "outputs": []
    },
    {
      "cell_type": "markdown",
      "source": [
        "#ALTERAÇÃO E REMOÇÃO DE TABELA\n",
        "Neste momento, temos o nosso banco com as três tabelas\n",
        "\n",
        "Durante o desenvolvimento, pode ser necessário realizar alterações no nosso modelo e, consequentemente, nas nossas tabelas. Nesta parte do módulo, vamos ver como podemos fazer para adicionar um novo atributo e como fazemos para remover uma tabela.\n",
        "\n",
        "Para alterar uma tabela e adicionar um novo atributo, precisamos utilizar o comando ALTER TABLE do SQL.\n",
        "\n",
        "Para ilustrar, vamos adicionar mais um atributo à entidade Veiculo.\n",
        "\n",
        "O atributo se chama motor e corresponde à motorização do carro: 1.0, 1.4, 2.0 etc. Esse atributo deverá conter pontos flutuantes e, por isso, vamos defini-lo como do tipo REAL.\n",
        "\n",
        "Para alterar a tabela Veículo e adicionar a coluna motor, utilizamos o seguinte comando SQL."
      ],
      "metadata": {
        "id": "15iVnFcAZYhh"
      }
    },
    {
      "cell_type": "code",
      "source": [
        "'''\n",
        "ALTER TABLE Veiculo\n",
        "ADD motor REAL;\n",
        "'''"
      ],
      "metadata": {
        "id": "qi25Zwu6Z3B4",
        "colab": {
          "base_uri": "https://localhost:8080/",
          "height": 35
        },
        "outputId": "51fd3250-df7d-4d58-da4a-6882fee3e4cd"
      },
      "execution_count": null,
      "outputs": [
        {
          "output_type": "execute_result",
          "data": {
            "text/plain": [
              "'\\nALTER TABLE Veiculo\\nADD motor REAL;\\n'"
            ],
            "application/vnd.google.colaboratory.intrinsic+json": {
              "type": "string"
            }
          },
          "metadata": {},
          "execution_count": 7
        }
      ]
    },
    {
      "cell_type": "code",
      "source": [
        "conexao = conector.connect('./meu_banco.db')\n",
        "cursor = conexao.cursor()\n",
        "\n",
        "comando = '''ALTER TABLE Veiculo ADD motor REAL; '''\n",
        "\n",
        "cursor.execute(comando)\n",
        "\n",
        "conexao.commit()\n",
        "\n",
        "cursor.close()\n",
        "conexao.close()"
      ],
      "metadata": {
        "id": "0lI8EX_VZ75H"
      },
      "execution_count": null,
      "outputs": []
    },
    {
      "cell_type": "markdown",
      "source": [
        "Excluir tabela para recriar na sequencia certa"
      ],
      "metadata": {
        "id": "0JlxH2bfen6C"
      }
    },
    {
      "cell_type": "code",
      "source": [
        "conexao = conector.connect('./meu_banco.db')\n",
        "cursor = conexao.cursor()\n",
        "\n",
        "comando1 = ''' DROP TABLE Veiculo '''\n",
        "\n",
        "cursor.execute(comando1)\n"
      ],
      "metadata": {
        "id": "0Tc_En_4erQo",
        "colab": {
          "base_uri": "https://localhost:8080/"
        },
        "outputId": "bedf34e7-ffe2-4d5a-d5db-551b772e71dc"
      },
      "execution_count": null,
      "outputs": [
        {
          "output_type": "execute_result",
          "data": {
            "text/plain": [
              "<sqlite3.Cursor at 0x7e36c84acbc0>"
            ]
          },
          "metadata": {},
          "execution_count": 9
        }
      ]
    },
    {
      "cell_type": "code",
      "source": [
        "comando2 = '''CREATE TABLE Veiculos (\n",
        "  placa CHARACTER(7) NOT NULL,\n",
        "  ano INTEGER NOT NULL,\n",
        "  cor TEXT NOT NULL,\n",
        "  motor REAL NOT NULL,\n",
        "  proprietario INTEGER NOT NULL,\n",
        "  marca INTEGER NOT NULL,\n",
        "  PRIMARY KEY (placa),\n",
        "  FOREIGN KEY(proprietario) REFERENCES Pessoa(cpf)\n",
        "  FOREIGN KEY(marca) REFERENCES Marca(id)\n",
        ") '''\n",
        "\n",
        "cursor.execute(comando2)\n",
        "\n",
        "conexao.commit()\n",
        "\n",
        "cursor.close()\n",
        "conexao.close()"
      ],
      "metadata": {
        "id": "tx3vtTOEfaYw"
      },
      "execution_count": null,
      "outputs": []
    },
    {
      "cell_type": "code",
      "source": [
        "# Comando SQL para visualizar tabelas\n",
        "comando_sql = '''\n",
        "    SELECT name FROM sqlite_master WHERE type='table' ORDER BY name\n",
        "'''\n",
        "# Abertura de conexão e aquisição de cursor\n",
        "conexao = conector.connect(\"./meu_banco.db\")\n",
        "cursor = conexao.cursor()\n",
        "\n",
        "# Executar o comando SQL\n",
        "print(cursor.execute(comando_sql))\n",
        "\n",
        "# Obter todos os resultados da consulta\n",
        "tabelas = cursor.fetchall()\n",
        "\n",
        "# Exibir os nomes de todas as tabelas\n",
        "for tabela in tabelas:\n",
        "    print(tabela[0])\n",
        "\n",
        "#Fechando conexão\n",
        "cursor.close()\n",
        "conexao.close()"
      ],
      "metadata": {
        "colab": {
          "base_uri": "https://localhost:8080/"
        },
        "id": "vXb8tTPgganC",
        "outputId": "a0c54052-c58a-48d4-b542-e28d86dcdda4"
      },
      "execution_count": null,
      "outputs": [
        {
          "output_type": "stream",
          "name": "stdout",
          "text": [
            "<sqlite3.Cursor object at 0x7e36c84acd40>\n",
            "Marca\n",
            "Pessoa\n",
            "Veiculos\n"
          ]
        }
      ]
    },
    {
      "cell_type": "markdown",
      "source": [
        "Agora as tabelas estão criadas e relacionadas"
      ],
      "metadata": {
        "id": "HdbDjNo3gw9R"
      }
    },
    {
      "cell_type": "markdown",
      "source": [
        "# Inserir Dados nas tabelas\n"
      ],
      "metadata": {
        "id": "lXRoeUBKuu-N"
      }
    },
    {
      "cell_type": "markdown",
      "source": [
        "O Comando SQL para inserção desses dados é o seguinte:"
      ],
      "metadata": {
        "id": "BgxwlBJeiGuk"
      }
    },
    {
      "cell_type": "code",
      "source": [
        "'''\n",
        "INSERT INTO Pessoa (cpf, nome, nascimento, oculos)\n",
        "VALUES (12345678900, 'João', '2000-01-31', 1);\n",
        " '''"
      ],
      "metadata": {
        "colab": {
          "base_uri": "https://localhost:8080/",
          "height": 35
        },
        "id": "gRydlmYniIQb",
        "outputId": "2bb57184-ba2c-44bf-f61e-9f2fac0d8777"
      },
      "execution_count": null,
      "outputs": [
        {
          "output_type": "execute_result",
          "data": {
            "text/plain": [
              "\"\\nINSERT INTO Pessoa (cpf, nome, nascimento, oculos)\\nVALUES (12345678900, 'João', '2000-01-31', 1);\\n \""
            ],
            "application/vnd.google.colaboratory.intrinsic+json": {
              "type": "string"
            }
          },
          "metadata": {},
          "execution_count": 12
        }
      ]
    },
    {
      "cell_type": "markdown",
      "source": [
        "Observe que alteramos a formatação da data para se adequar ao padrão de alguns bancos de dados, como MySQL e PostgreSQL. Para o SQLite será indiferente, pois o tipo DATE será convertido por afinidade para NUMERIC, que pode ser de qualquer classe. Na prática, será convertido para classe TEXT.\n",
        "\n",
        "Além disso, utilizamos o valor “1” para representar o booleano True. Assim como o DATE, o BOOLEAN será convertido para NUMERIC, porém, na prática, será convertido para classe INTEGER."
      ],
      "metadata": {
        "id": "aHvw3C5RiNmT"
      }
    },
    {
      "cell_type": "code",
      "source": [
        "#conexão\n",
        "conexao = conector.connect('./meu_banco.db')\n",
        "cursor = conexao.cursor()\n",
        "\n",
        "#comando sql\n",
        "comando = ''' INSERT INTO Pessoa (cpf, nome, nascimento, oculos) VALUES (45192823811, 'Raul', '1998-02-26', 1); '''\n",
        "\n",
        "#executando comando\n",
        "cursor.execute(comando)\n",
        "\n",
        "#commit\n",
        "conexao.commit()\n",
        "\n",
        "cursor.close()\n",
        "conexao.close()\n",
        "\n"
      ],
      "metadata": {
        "id": "pdAcJcyziRc6"
      },
      "execution_count": null,
      "outputs": []
    },
    {
      "cell_type": "markdown",
      "source": [
        "#INSERÇÃO DE DADOS EM TABELA COM QUERIES DINÂMICAS"
      ],
      "metadata": {
        "id": "Xc_vPmbAmYBl"
      }
    },
    {
      "cell_type": "code",
      "source": [
        "\n",
        "class Pessoa:\n",
        "    def __init__(self, cpf, nome, data_nascimento, usa_oculos):\n",
        "        self.cpf = cpf\n",
        "        self.nome = nome\n",
        "        self.data_nascimento = data_nascimento\n",
        "        self.usa_oculos = usa_oculos\n",
        "        self.veiculos = []\n"
      ],
      "metadata": {
        "id": "XZObQO8pnW55"
      },
      "execution_count": null,
      "outputs": []
    },
    {
      "cell_type": "code",
      "source": [
        "\n",
        "# Abertura de conexão e aquisição de cursor\n",
        "conexao = conector.connect(\"./meu_banco.db\")\n",
        "cursor = conexao.cursor()\n",
        "\n",
        "# Criação de um objeto do tipo Pessoa\n",
        "pessoa = Pessoa(10000000099, 'Maria', '1990-01-31', False)\n",
        "\n",
        "# Definição de um comando com query parameter\n",
        "comando = '''INSERT INTO Pessoa (cpf, nome, nascimento, oculos) VALUES (?, ?, ?, ?);'''\n",
        "cursor.execute(comando, (pessoa.cpf, pessoa.nome, pessoa.data_nascimento, pessoa.usa_oculos))\n",
        "\n",
        "# Efetivação do comando\n",
        "conexao.commit()\n",
        "\n",
        "# Fechamento das conexões\n",
        "cursor.close()\n",
        "conexao.close()\n"
      ],
      "metadata": {
        "id": "IyhV6iA9mFDN"
      },
      "execution_count": null,
      "outputs": []
    },
    {
      "cell_type": "markdown",
      "source": [
        "#INSERÇÃO DE DADOS EM TABELA COM QUERIES DINÂMICAS E NOMES"
      ],
      "metadata": {
        "id": "KiKh1t55nKYD"
      }
    },
    {
      "cell_type": "code",
      "source": [
        "# Abertura de conexão e aquisição de cursor\n",
        "conexao = conector.connect(\"./meu_banco.db\")\n",
        "cursor = conexao.cursor()\n",
        "\n",
        "# Criação de um objeto do tipo Pessoa\n",
        "pessoa = Pessoa(20000000099, 'José', '1990-02-28', False)\n",
        "\n",
        "# Definição de um comando com query parameter\n",
        "comando = '''INSERT INTO Pessoa (cpf, nome, nascimento, oculos)\n",
        "                    VALUES (:cpf,:nome,:data_nascimento,:usa_oculos);'''\n",
        "cursor.execute(comando, {\"cpf\": pessoa.cpf,\n",
        "                         \"nome\": pessoa.nome,\n",
        "                         \"data_nascimento\": pessoa.data_nascimento,\n",
        "                         \"usa_oculos\": pessoa.usa_oculos})\n",
        "\n",
        "# Efetivação do comando\n",
        "conexao.commit()\n",
        "\n",
        "# Fechamento das conexões\n",
        "cursor.close()\n",
        "conexao.close()\n"
      ],
      "metadata": {
        "id": "3-FN6srRnU17"
      },
      "execution_count": null,
      "outputs": []
    },
    {
      "cell_type": "markdown",
      "source": [
        ", vamos inserir alguns registros nas outras tabelas, de forma a povoar nosso banco de dados. Vamos utilizar a mesma lógica do exemplo anterior, no qual utilizamos a função vars() e argumentos nomeados.\n",
        "\n",
        "Primeiro, vamos criar mais duas classes no nosso módulo modelo.py para representar as entidades Marca e Veiculo."
      ],
      "metadata": {
        "id": "H9LigJ8rnnyV"
      }
    },
    {
      "cell_type": "code",
      "source": [
        "\n",
        "class Marca:\n",
        "    def __init__(self, nome, sigla):\n",
        "\n",
        "        self.nome = nome\n",
        "        self.sigla = sigla\n",
        "\n",
        "class Veiculo:\n",
        "    def __init__(self, placa, ano, cor, motor, proprietario, marca):\n",
        "        self.placa = placa\n",
        "        self.ano = ano\n",
        "        self.cor = cor\n",
        "        self.motor = motor\n",
        "        self.proprietario = proprietario\n",
        "        self.marca = marca\n"
      ],
      "metadata": {
        "id": "fVy2b6WqnsMT"
      },
      "execution_count": null,
      "outputs": []
    },
    {
      "cell_type": "code",
      "source": [
        "\n",
        "conexao = conector.connect(\"./meu_banco.db\")\n",
        "conexao.execute(\"PRAGMA foreign_keys = on\")\n",
        "cursor = conexao.cursor()\n",
        "\n",
        "# Inserção de dados na tabela Marca\n",
        "comando1 = '''INSERT INTO Marca (nome, sigla) VALUES (:nome, :sigla);'''\n",
        "\n",
        "marca1 = Marca(\"Marca A\", \"MA\")\n",
        "cursor.execute(comando1, vars(marca1))\n",
        "marca1.id = cursor.lastrowid\n",
        "\n",
        "marca2 = Marca(\"Marca B\", \"MB\")\n",
        "cursor.execute(comando1, vars(marca2))\n",
        "marca2.id = cursor.lastrowid\n",
        "\n",
        "# Inserção de dados na tabela Veiculo\n",
        "comando2 = '''INSERT INTO Veiculos\n",
        "                VALUES (:placa, :ano, :cor, :motor, :proprietario, :marca);'''\n",
        "veiculo1 = Veiculo(\"AAA0001\", 2001, \"Prata\", 1.0, 10000000099, marca1.id)\n",
        "veiculo2 = Veiculo(\"BAA0002\", 2002, \"Preto\", 1.4, 10000000099, marca1.id)\n",
        "veiculo3 = Veiculo(\"CAA0003\", 2003, \"Branco\", 2.0, 20000000099, marca2.id)\n",
        "veiculo4 = Veiculo(\"DAA0004\", 2004, \"Azul\", 2.2, 30000000099, marca2.id)\n",
        "cursor.execute(comando2, vars(veiculo1))\n",
        "cursor.execute(comando2, vars(veiculo2))\n",
        "\n",
        "\n",
        "# Efetivação do comando\n",
        "conexao.commit()\n",
        "# Fechamento das conexões\n",
        "cursor.close()\n",
        "conexao.close()\n"
      ],
      "metadata": {
        "id": "oQjo0lYmoFw0"
      },
      "execution_count": null,
      "outputs": []
    },
    {
      "cell_type": "code",
      "source": [
        "'''\n",
        "ASSIM FICARAM OS COD\n",
        "\n",
        "INSERT INTO Marca (nome, sigla) VALUES ('Marca A', 'MA')\n",
        "INSERT INTO Marca (nome, sigla) VALUES ('Marca B', 'MB')\n",
        "INSERT INTO Veiculo VALUES ('AAA0001', 2001, 'Prata', 1.0, 10000000099, 1)\n",
        "INSERT INTO Veiculo VALUES ('BAA0002', 2002, 'Preto', 1.4, 10000000099, 1)\n",
        "INSERT INTO Veiculo VALUES ('CAA0003', 2003, 'Branco', 2.0, 20000000099, 2) < -------- EXCLUI ESSA LINHA\n",
        "INSERT INTO Veiculo VALUES ('DAA0004', 2004, 'Azul', 2.2, 30000000099, 2) < --------- EXCLUI ESSA LINHA\n",
        "'''"
      ],
      "metadata": {
        "id": "P4ZNGb-czjK1"
      },
      "execution_count": null,
      "outputs": []
    },
    {
      "cell_type": "markdown",
      "source": [
        "# ATUALIZAÇÃO DE DADOS EM UMA TABELA\n",
        "Agora que já sabemos como inserir um registro em uma tabela, vamos aprender a atualizar os dados de um registro.\n",
        "\n",
        "Para atualizar um registro, utilizamos o comando SQL UPDATE. Sua sintaxe é a seguinte:"
      ],
      "metadata": {
        "id": "NnzZVvDAzR1d"
      }
    },
    {
      "cell_type": "markdown",
      "source": [
        "Assim como no comando INSERT, podemos montar o comando UPDATE de três formas. Uma string sem delimitadores, uma string com o delimitador “?” ou uma string com argumentos nomeados.\n",
        "\n",
        "Também podemos utilizar os delimitadores na condição da cláusula WHERE."
      ],
      "metadata": {
        "id": "2W0ivxApz5As"
      }
    },
    {
      "cell_type": "code",
      "source": [
        "# Abertura de conexão e aquisição de cursor\n",
        "conexao = conector.connect(\"./meu_banco.db\")\n",
        "conexao.execute(\"PRAGMA foreign_keys = on\")\n",
        "cursor = conexao.cursor()\n",
        "\n",
        "# Definição dos comandos\n",
        "comando1 = '''UPDATE Pessoa SET oculos= 1;'''\n",
        "cursor.execute(comando1)\n",
        "\n",
        "comando2 = '''UPDATE Pessoa SET oculos= ? WHERE cpf=30000000099;'''\n",
        "cursor.execute(comando2, (False,))                                      #    UPDATE Pessoa SET oculos= 0 WHERE cpf=30000000099;\n",
        "\n",
        "comando3 = '''UPDATE Pessoa SET oculos= :usa_oculos WHERE cpf= :cpf;'''\n",
        "cursor.execute(comando3, {\"usa_oculos\": False, \"cpf\": 20000000099})     #   UPDATE Pessoa SET oculos= 0 WHERE cpf= 20000000099;\n",
        "\n",
        "# Efetivação do comando\n",
        "conexao.commit()\n",
        "\n",
        "# Fechamento das conexões\n",
        "cursor.close()\n",
        "conexao.close()"
      ],
      "metadata": {
        "id": "iuG6CMzA0OCF"
      },
      "execution_count": null,
      "outputs": []
    },
    {
      "cell_type": "markdown",
      "source": [
        "#REMOÇÃO DE DADOS DE UMA TABELA\n",
        "\n",
        "Nesta parte deste módulo, iremos aprender a remover registros de uma tabela.\n",
        "\n",
        "Para remover um registro, utilizamos o comando SQL DELETE. Sua sintaxe é a seguinte:"
      ],
      "metadata": {
        "id": "1JRKNXci0rQt"
      }
    },
    {
      "cell_type": "markdown",
      "source": [
        "Assim como nos outros comandos, podemos montar o comando DELETE de três formas. Uma string sem delimitadores, uma string com o delimitador “?” ou uma string com argumentos nomeados. Todos para a condição da cláusula WHERE."
      ],
      "metadata": {
        "id": "hTgGoX_L08m1"
      }
    },
    {
      "cell_type": "code",
      "source": [
        "\n",
        "# Abertura de conexão e aquisição de cursor\n",
        "conexao = conector.connect(\"./meu_banco.db\")\n",
        "conexao.execute(\"PRAGMA foreign_keys = on\")\n",
        "cursor = conexao.cursor()\n",
        "\n",
        "# Definição dos comandos\n",
        "comando = '''DELETE FROM Pessoa WHERE cpf= 12345678900;'''\n",
        "cursor.execute(comando)\n",
        "\n",
        "# Efetivação do comando\n",
        "conexao.commit()\n",
        "\n",
        "# Fechamento das conexões\n",
        "cursor.close()\n",
        "conexao.close()"
      ],
      "metadata": {
        "id": "5PoiHmYw1BuV"
      },
      "execution_count": null,
      "outputs": []
    },
    {
      "cell_type": "markdown",
      "source": [
        "#SELEÇÃO DE REGISTROS DE UMA TABELA\n"
      ],
      "metadata": {
        "id": "DKE1qfVA5Uk8"
      }
    },
    {
      "cell_type": "markdown",
      "source": [
        "\n",
        "Neste módulo, aprenderemos a recuperar os registros presentes no banco de dados. Partiremos de consultas mais simples, utilizando apenas uma tabela, até consultas mais sofisticadas, envolvendo os relacionamentos entre tabelas."
      ],
      "metadata": {
        "id": "cMzD_Jkf5N4t"
      }
    },
    {
      "cell_type": "markdown",
      "source": [
        "Para selecionar e recuperar registros de um banco de dados, utilizamos o comando SQL SELECT."
      ],
      "metadata": {
        "id": "-HpLYuvV5m41"
      }
    },
    {
      "cell_type": "code",
      "source": [
        "'''\n",
        "SELECT coluna1, coluna2, ... FROM tabela1\n",
        "WHERE [condição];\n",
        "'''"
      ],
      "metadata": {
        "id": "f4H_jMcS5oLR"
      },
      "execution_count": null,
      "outputs": []
    },
    {
      "cell_type": "markdown",
      "source": [
        "Assim como nos outros comandos, podemos utilizar uma string sem delimitadores, uma string com o delimitador “?” ou uma string com argumentos nomeados para a condição da cláusula WHERE."
      ],
      "metadata": {
        "id": "2CpbadtN5wMV"
      }
    },
    {
      "cell_type": "code",
      "source": [
        "conexao = conector.connect(\"./meu_banco.db\")\n",
        "cursor = conexao.cursor()\n",
        "\n",
        "comando = ''' SELECT nome, oculos FROM Pessoa '''\n",
        "cursor.execute(comando)\n",
        "\n",
        "registros = cursor.fetchall()\n",
        "print(\"Tipo retornado pelo fetchall();\", type(registros))\n",
        "\n",
        "for registro in registros:\n",
        "  print(\"Tipos:\", type(registro), '- Conteudo:', registro)\n",
        "\n",
        "cursor.close()\n",
        "conexao.close()"
      ],
      "metadata": {
        "colab": {
          "base_uri": "https://localhost:8080/"
        },
        "id": "Dj5X3Q-c54Hd",
        "outputId": "74da443d-babe-4b76-f7db-b686e361c51a"
      },
      "execution_count": null,
      "outputs": [
        {
          "output_type": "stream",
          "name": "stdout",
          "text": [
            "Tipo retornado pelo fetchall(); <class 'list'>\n",
            "Tipos: <class 'tuple'> - Conteudo: ('Maria', 1)\n",
            "Tipos: <class 'tuple'> - Conteudo: ('José', 0)\n",
            "Tipos: <class 'tuple'> - Conteudo: ('Raul', 1)\n"
          ]
        }
      ]
    },
    {
      "cell_type": "markdown",
      "source": [
        "Como o SQLite não cria uma transação para o comando SELECT, não é necessário executar o commit."
      ],
      "metadata": {
        "id": "cZjDXNup6_VA"
      }
    },
    {
      "cell_type": "code",
      "source": [
        "\n",
        "# Abertura de conexão e aquisição de cursor\n",
        "conexao = conector.connect(\"./meu_banco.db\")\n",
        "cursor = conexao.cursor()\n",
        "\n",
        "# Definição dos comandos\n",
        "comando = '''SELECT * FROM Pessoa WHERE oculos=:usa_oculos;'''\n",
        "cursor.execute(comando, {\"usa_oculos\": True})\n",
        "\n",
        "# Recuperação dos registros\n",
        "registros = cursor.fetchall()\n",
        "for registro in registros:\n",
        "    pessoa = Pessoa(*registro)\n",
        "    print(\"cpf:\", type(pessoa.cpf), pessoa.cpf)\n",
        "    print(\"nome:\", type(pessoa.nome), pessoa.nome)\n",
        "    print(\"nascimento:\", type(pessoa.data_nascimento), pessoa.data_nascimento)\n",
        "    print(\"oculos:\", type(pessoa.usa_oculos), pessoa.usa_oculos)\n",
        "\n",
        "# Fechamento das conexões\n",
        "cursor.close()\n",
        "conexao.close()\n"
      ],
      "metadata": {
        "colab": {
          "base_uri": "https://localhost:8080/"
        },
        "id": "3jgWD1lz8HLv",
        "outputId": "14e218ce-794f-430d-cf17-055a7d0a23a2"
      },
      "execution_count": null,
      "outputs": [
        {
          "output_type": "stream",
          "name": "stdout",
          "text": [
            "cpf: <class 'int'> 10000000099\n",
            "nome: <class 'str'> Maria\n",
            "nascimento: <class 'str'> 1990-01-31\n",
            "oculos: <class 'int'> 1\n",
            "cpf: <class 'int'> 45192823811\n",
            "nome: <class 'str'> Raul\n",
            "nascimento: <class 'str'> 1998-02-26\n",
            "oculos: <class 'int'> 1\n"
          ]
        }
      ]
    },
    {
      "cell_type": "code",
      "source": [
        "'''\n",
        "Equivale\n",
        "SELECT * FROM Pessoa WHERE oculos=1;\n",
        "'''"
      ],
      "metadata": {
        "id": "-YtAtEoh8TnW"
      },
      "execution_count": null,
      "outputs": []
    },
    {
      "cell_type": "markdown",
      "source": [
        "Comentário\n",
        "Se estivéssemos utilizando o banco de dados PostgreSQL com o conector psycopg2, como os tipos DATE e BOOLEAN são suportados, esses valores seriam convertidos para o tipo correto."
      ],
      "metadata": {
        "id": "7oXuXh4GCJp4"
      }
    },
    {
      "cell_type": "markdown",
      "source": [
        "mostrar como fazer a conversão de datas e booleanos."
      ],
      "metadata": {
        "id": "ciHpEduZCC-w"
      }
    },
    {
      "cell_type": "code",
      "source": [
        "# Abertura de conexão e aquisição de cursor\n",
        "conexao = conector.connect(\"./meu_banco.db\", detect_types=conector.PARSE_DECLTYPES)\n",
        "cursor = conexao.cursor()\n",
        "\n",
        "# Funções conversoras\n",
        "def conv_bool(dado):\n",
        "    return True if dado == 1 else False\n",
        "\n",
        "# Registro de conversores\n",
        "conector.register_converter(\"BOOLEAN\", conv_bool)\n",
        "\n",
        "# Definição dos comandos\n",
        "comando = '''SELECT * FROM Pessoa WHERE oculos=:usa_oculos;'''\n",
        "cursor.execute(comando, {\"usa_oculos\": True})\n",
        "\n",
        "# Recuperação dos registros\n",
        "registros = cursor.fetchall()\n",
        "for registro in registros:\n",
        "    pessoa = Pessoa(*registro)\n",
        "    print(\"cpf:\", type(pessoa.cpf), pessoa.cpf)\n",
        "    print(\"nome:\", type(pessoa.nome), pessoa.nome)\n",
        "    print(\"nascimento:\", type(pessoa.data_nascimento), pessoa.data_nascimento)\n",
        "    print(\"oculos:\", type(pessoa.usa_oculos), pessoa.usa_oculos)\n",
        "\n",
        "# Fechamento das conexões\n",
        "cursor.close()\n",
        "conexao.close()\n"
      ],
      "metadata": {
        "colab": {
          "base_uri": "https://localhost:8080/"
        },
        "id": "vbzcvg4tB-Aw",
        "outputId": "ce68e8ab-a41e-46a1-998d-5d3873bc7263"
      },
      "execution_count": null,
      "outputs": [
        {
          "output_type": "stream",
          "name": "stdout",
          "text": [
            "cpf: <class 'int'> 10000000099\n",
            "nome: <class 'str'> Maria\n",
            "nascimento: <class 'datetime.date'> 1990-01-31\n",
            "oculos: <class 'bool'> False\n",
            "cpf: <class 'int'> 45192823811\n",
            "nome: <class 'str'> Raul\n",
            "nascimento: <class 'datetime.date'> 1998-02-26\n",
            "oculos: <class 'bool'> False\n"
          ]
        }
      ]
    },
    {
      "cell_type": "markdown",
      "source": [
        "#SELEÇÃO DE REGISTROS UTILIZANDO JUNÇÃO\n",
        "\n",
        "vamos buscar os veículos e suas respectivas marcas. Vamos fazer isso por meio da junção de tabelas."
      ],
      "metadata": {
        "id": "vpTCUkT4CrsH"
      }
    },
    {
      "cell_type": "code",
      "source": [
        "\n",
        "# Abertura de conexão e aquisição de cursor\n",
        "conexao = conector.connect(\"./meu_banco.db\")\n",
        "cursor = conexao.cursor()\n",
        "\n",
        "# Definição dos comandos\n",
        "comando = '''SELECT * FROM Veiculos;'''\n",
        "cursor.execute(comando)\n",
        "\n",
        "# Recuperação dos registros\n",
        "reg_veiculos = cursor.fetchall()\n",
        "for reg_veiculo in reg_veiculos:\n",
        "    veiculo = Veiculo(*reg_veiculo)\n",
        "    print(\"Placa:\", veiculo.placa, \", Marca:\", veiculo.marca)\n",
        "\n",
        "# Fechamento das conexões\n",
        "cursor.close()\n",
        "conexao.close()\n"
      ],
      "metadata": {
        "colab": {
          "base_uri": "https://localhost:8080/"
        },
        "id": "7eNALXLbC0sA",
        "outputId": "6f5b2144-2e03-43b7-c010-2fe677371287"
      },
      "execution_count": null,
      "outputs": [
        {
          "output_type": "stream",
          "name": "stdout",
          "text": [
            "Placa: AAA0001 , Marca: 1\n",
            "Placa: BAA0002 , Marca: 1\n"
          ]
        }
      ]
    },
    {
      "cell_type": "code",
      "source": [
        "'''\n",
        "Equivale\n",
        "SELECT tab1.col1, tab1.col2, tab2.col1… FROM tab1 JOIN tab2 ON tab1.colN = tab2.colM;\n",
        "'''"
      ],
      "metadata": {
        "id": "-grYvtw-Dbaf"
      },
      "execution_count": null,
      "outputs": []
    },
    {
      "cell_type": "code",
      "source": [
        "\n",
        "# Abertura de conexão e aquisição de cursor\n",
        "conexao = conector.connect(\"./meu_banco.db\")\n",
        "cursor = conexao.cursor()\n",
        "\n",
        "# Definição dos comandos\n",
        "comando = '''SELECT\n",
        "                Veiculos.placa, Veiculos.ano, Veiculos.cor,\n",
        "                Veiculos.motor, Veiculos.proprietario,\n",
        "                Marca.nome FROM Veiculos JOIN Marca ON Marca.id = Veiculos.marca;'''\n",
        "cursor.execute(comando)\n",
        "\n",
        "# Recuperação dos registros\n",
        "reg_veiculos = cursor.fetchall()\n",
        "for reg_veiculo in reg_veiculos:\n",
        "    veiculo = Veiculo(*reg_veiculo)\n",
        "    print(\"Placa:\", veiculo.placa, \", Marca:\", veiculo.marca)\n",
        "\n",
        "# Fechamento das conexões\n",
        "cursor.close()\n",
        "conexao.close()\n"
      ],
      "metadata": {
        "colab": {
          "base_uri": "https://localhost:8080/"
        },
        "id": "8iz4gDWKDjyI",
        "outputId": "4e7b245c-6f58-4507-b0fa-cd0ccce9c516"
      },
      "execution_count": null,
      "outputs": [
        {
          "output_type": "stream",
          "name": "stdout",
          "text": [
            "Placa: AAA0001 , Marca: Marca A\n",
            "Placa: BAA0002 , Marca: Marca A\n"
          ]
        }
      ]
    },
    {
      "cell_type": "code",
      "source": [
        "'''\n",
        "Equivale\n",
        "SELECT Veiculo.placa, Veiculo.ano, Veiculo.cor, Veiculo.motor, Veiculo.proprietario, Marca.nome FROM Veiculo JOIN Marca ON Marca.id = Veiculo.marca;\n",
        "'''"
      ],
      "metadata": {
        "id": "sxDp6S3EDwHg"
      },
      "execution_count": null,
      "outputs": []
    },
    {
      "cell_type": "markdown",
      "source": [
        "No próximo exemplo, vamos dar um passo além. Vamos atribuir ao atributo marca, do Veiculo, um objeto do tipo Marca. Desta forma, vamos ter acesso a todos os atributos da marca de um veículo.\n",
        "\n",
        "Para isso, vamos fazer alguns ajustes no nosso modelo"
      ],
      "metadata": {
        "id": "2sgbNKaHEJ3w"
      }
    },
    {
      "cell_type": "code",
      "source": [
        "# Abertura de conexão e aquisição de cursor\n",
        "conexao = conector.connect(\"./meu_banco.db\")\n",
        "cursor = conexao.cursor()\n",
        "\n",
        "# Definição dos comandos\n",
        "comando = '''SELECT * FROM\n",
        "                Veiculos JOIN Marca ON Marca.id = Veiculos.marca;'''\n",
        "cursor.execute(comando)\n",
        "\n",
        "# Recuperação dos registros\n",
        "registros = cursor.fetchall()\n",
        "for registro in registros:\n",
        "    print(registro)\n",
        "    marca = Marca(*registro[6:])\n",
        "    veiculo = Veiculo(*registro[:5], marca)\n",
        "    print(\"Placa:\", veiculo.placa, \", Marca:\", veiculo.marca.nome)\n",
        "\n",
        "# Fechamento das conexões\n",
        "cursor.close()\n",
        "conexao.close()\n"
      ],
      "metadata": {
        "colab": {
          "base_uri": "https://localhost:8080/",
          "height": 252
        },
        "id": "0xSrzTfZEGbo",
        "outputId": "3a276583-11b0-4efd-9d18-cf12abb81427"
      },
      "execution_count": null,
      "outputs": [
        {
          "output_type": "stream",
          "name": "stdout",
          "text": [
            "('AAA0001', 2001, 'Prata', 1.0, 10000000099, 1, 1, 'Marca A', 'MA')\n"
          ]
        },
        {
          "output_type": "error",
          "ename": "TypeError",
          "evalue": "ignored",
          "traceback": [
            "\u001b[0;31m---------------------------------------------------------------------------\u001b[0m",
            "\u001b[0;31mTypeError\u001b[0m                                 Traceback (most recent call last)",
            "\u001b[0;32m<ipython-input-32-395385888927>\u001b[0m in \u001b[0;36m<cell line: 12>\u001b[0;34m()\u001b[0m\n\u001b[1;32m     12\u001b[0m \u001b[0;32mfor\u001b[0m \u001b[0mregistro\u001b[0m \u001b[0;32min\u001b[0m \u001b[0mregistros\u001b[0m\u001b[0;34m:\u001b[0m\u001b[0;34m\u001b[0m\u001b[0;34m\u001b[0m\u001b[0m\n\u001b[1;32m     13\u001b[0m     \u001b[0mprint\u001b[0m\u001b[0;34m(\u001b[0m\u001b[0mregistro\u001b[0m\u001b[0;34m)\u001b[0m\u001b[0;34m\u001b[0m\u001b[0;34m\u001b[0m\u001b[0m\n\u001b[0;32m---> 14\u001b[0;31m     \u001b[0mmarca\u001b[0m \u001b[0;34m=\u001b[0m \u001b[0mMarca\u001b[0m\u001b[0;34m(\u001b[0m\u001b[0;34m*\u001b[0m\u001b[0mregistro\u001b[0m\u001b[0;34m[\u001b[0m\u001b[0;36m6\u001b[0m\u001b[0;34m:\u001b[0m\u001b[0;34m]\u001b[0m\u001b[0;34m)\u001b[0m\u001b[0;34m\u001b[0m\u001b[0;34m\u001b[0m\u001b[0m\n\u001b[0m\u001b[1;32m     15\u001b[0m     \u001b[0mveiculo\u001b[0m \u001b[0;34m=\u001b[0m \u001b[0mVeiculo\u001b[0m\u001b[0;34m(\u001b[0m\u001b[0;34m*\u001b[0m\u001b[0mregistro\u001b[0m\u001b[0;34m[\u001b[0m\u001b[0;34m:\u001b[0m\u001b[0;36m5\u001b[0m\u001b[0;34m]\u001b[0m\u001b[0;34m,\u001b[0m \u001b[0mmarca\u001b[0m\u001b[0;34m)\u001b[0m\u001b[0;34m\u001b[0m\u001b[0;34m\u001b[0m\u001b[0m\n\u001b[1;32m     16\u001b[0m     \u001b[0mprint\u001b[0m\u001b[0;34m(\u001b[0m\u001b[0;34m\"Placa:\"\u001b[0m\u001b[0;34m,\u001b[0m \u001b[0mveiculo\u001b[0m\u001b[0;34m.\u001b[0m\u001b[0mplaca\u001b[0m\u001b[0;34m,\u001b[0m \u001b[0;34m\", Marca:\"\u001b[0m\u001b[0;34m,\u001b[0m \u001b[0mveiculo\u001b[0m\u001b[0;34m.\u001b[0m\u001b[0mmarca\u001b[0m\u001b[0;34m.\u001b[0m\u001b[0mnome\u001b[0m\u001b[0;34m)\u001b[0m\u001b[0;34m\u001b[0m\u001b[0;34m\u001b[0m\u001b[0m\n",
            "\u001b[0;31mTypeError\u001b[0m: Marca.__init__() takes 3 positional arguments but 4 were given"
          ]
        }
      ]
    },
    {
      "cell_type": "markdown",
      "source": [
        "#SELEÇÃO DE REGISTROS RELACIONADOS\n",
        "\n",
        "Para finalizar, vamos recuperar todas as pessoas, com seus respectivos veículos e marcas.\n",
        "\n",
        "Para isso, vamos transformar o script anterior em uma função, de forma que possamos utilizá-la no nosso script final. Observe a Figura 26 a seguir."
      ],
      "metadata": {
        "id": "Y1rjzrfFEs2I"
      }
    },
    {
      "cell_type": "code",
      "source": [
        "\n",
        "def recuperar_veiculos(conexao, cpf):\n",
        "    # Aquisição de cursor\n",
        "    cursor = conexao.cursor()\n",
        "\n",
        "    # Definição dos comandos\n",
        "    comando = '''SELECT * FROM Veiculo\n",
        "                 JOIN Marca ON Marca.id = Veiculo.marca\n",
        "                 WHERE Veiculo.proprietario = ?;'''\n",
        "    cursor.execute(comando, (cpf,))\n",
        "\n",
        "    # Recuperação dos registros\n",
        "    veiculos = []\n",
        "    registros = cursor.fetchall()\n",
        "    for registro in registros:\n",
        "        marca = Marca(*registro[6:])\n",
        "        veiculo = Veiculo(*registro[:5], marca)\n",
        "        veiculos.append(veiculo)\n",
        "\n",
        "    # Fechamento do cursor\n",
        "    cursor.close()\n",
        "    return veiculos\n"
      ],
      "metadata": {
        "id": "PgW0_DQjE0sg"
      },
      "execution_count": null,
      "outputs": []
    }
  ]
}