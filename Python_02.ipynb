{
  "nbformat": 4,
  "nbformat_minor": 0,
  "metadata": {
    "colab": {
      "provenance": [],
      "authorship_tag": "ABX9TyMThK2VeKKXLCreJ2NvDpS1"
    },
    "kernelspec": {
      "name": "python3",
      "display_name": "Python 3"
    },
    "language_info": {
      "name": "python"
    }
  },
  "cells": [
    {
      "cell_type": "code",
      "execution_count": null,
      "metadata": {
        "id": "GNgyZxggB_F3"
      },
      "outputs": [],
      "source": [
        "import sqlite3 as conector"
      ]
    },
    {
      "cell_type": "markdown",
      "source": [
        "Como o SQLite trabalha com arquivo e não tem suporte à autenticação, para se conectar a um banco de dados SQLite, basta chamar a função connect do módulo sqlite3, passando como argumento o caminho para o arquivo que contém o banco de dados.\n",
        "\n",
        "Veja a sintaxe a seguir:"
      ],
      "metadata": {
        "id": "ibw_NrPdGcP0"
      }
    },
    {
      "cell_type": "code",
      "source": [
        "import sqlite3\n",
        "conexao = sqlite3.connect('meu_banco.db')"
      ],
      "metadata": {
        "id": "unJil_lNGcDZ"
      },
      "execution_count": null,
      "outputs": []
    },
    {
      "cell_type": "markdown",
      "source": [
        "Pronto! Isso é o suficiente para termos uma conexão com o banco de dados meu_banco.db e iniciar o envio de comandos SQL para criar tabelas e inserir registros.\n",
        "\n",
        "Caso o arquivo não exista, ele será criado automaticamente! O arquivo criado pode ser copiado e compartilhado.\n",
        "\n",
        "Se quisermos criar um banco de dados em memória, que será criado para toda execução do programa, basta utilizar o comando conexao = sqlite3.connect(':memory:')."
      ],
      "metadata": {
        "id": "llnJU3-1GiN0"
      }
    },
    {
      "cell_type": "code",
      "source": [
        "import sqlite3 as conector\n",
        "\n",
        "try:\n",
        "    # Abertura de conexão e aquisição de cursor\n",
        "    conexao = conector.connect(\"./meu_banco.db\")\n",
        "    cursor = conexao.cursor()\n",
        "\n",
        "    # Execução de um comando: SELECT... CREATE ...\n",
        "    comando = '''CREATE TABLE Pessoa (\n",
        "                    cpf INTEGER NOT NULL,\n",
        "                    nome TEXT NOT NULL,\n",
        "                    nascimento DATE NOT NULL,\n",
        "                    oculos BOOLEAN NOT NULL,\n",
        "                    PRIMARY KEY (cpf)\n",
        "                    );'''\n",
        "\n",
        "    cursor.execute(comando)\n",
        "\n",
        "    # Efetivação do comando\n",
        "    conexao.commit()\n",
        "\n",
        "except conector.DatabaseError as err:\n",
        "    print(\"Erro de banco de dados\", err)\n",
        "\n",
        "finally:\n",
        "    # Fechamento das conexões\n",
        "    if conexao:\n",
        "        cursor.close()\n",
        "        conexao.close()"
      ],
      "metadata": {
        "id": "rEl_B04BHgis"
      },
      "execution_count": null,
      "outputs": []
    },
    {
      "cell_type": "code",
      "source": [
        "# Comando SQL para visualizar tabelas\n",
        "comando_sql = '''\n",
        "    SELECT name FROM sqlite_master WHERE type='table' ORDER BY name\n",
        "'''\n",
        "# Abertura de conexão e aquisição de cursor\n",
        "conexao = conector.connect(\"./meu_banco.db\")\n",
        "cursor = conexao.cursor()\n",
        "\n",
        "# Executar o comando SQL\n",
        "print(cursor.execute(comando_sql))\n",
        "\n",
        "# Obter todos os resultados da consulta\n",
        "tabelas = cursor.fetchall()\n",
        "\n",
        "# Exibir os nomes de todas as tabelas\n",
        "for tabela in tabelas:\n",
        "    print(tabela[0])\n",
        "\n",
        "#Fechando conexão\n",
        "cursor.close()\n",
        "conexao.close()"
      ],
      "metadata": {
        "colab": {
          "base_uri": "https://localhost:8080/"
        },
        "id": "4056HHcwKWrW",
        "outputId": "717ba62c-4904-4d29-b80b-0ecb2d8d2001"
      },
      "execution_count": null,
      "outputs": [
        {
          "output_type": "stream",
          "name": "stdout",
          "text": [
            "<sqlite3.Cursor object at 0x7ecaeb0531c0>\n",
            "Pessoa\n"
          ]
        }
      ]
    },
    {
      "cell_type": "code",
      "source": [
        "conexao = conector.connect(\"./meu_banco.db\")\n",
        "cursor = conexao.cursor()\n",
        "\n",
        "comando = '''CREATE TABLE Marca (\n",
        "  id INTEGER NOT NULL,\n",
        "  nome TEXT NOT NULL,\n",
        "  sigla CHARACTER(2) NOT NULL,\n",
        "  PRIMARY KEY (id)\n",
        ")'''\n",
        "\n",
        "cursor.execute(comando)\n",
        "\n",
        "conexao.commit()\n",
        "\n",
        "cursor.close()\n",
        "conexao.close()"
      ],
      "metadata": {
        "id": "coqDAWClTS2C"
      },
      "execution_count": null,
      "outputs": []
    },
    {
      "cell_type": "code",
      "source": [
        "conexao = conector.connect(\"./meu_banco.db\")\n",
        "cursor = conexao.cursor()\n",
        "\n",
        "comando = '''CREATE TABLE Veiculo (\n",
        "  placa CHARACTER(7) NOT NULL,\n",
        "  ano INTERGER NOT NULL,\n",
        "  cor TEXT NOT NULL,\n",
        "  proprietario INTERGER NOT NULL,\n",
        "  marca INTEGER NOT NULL,\n",
        "  PRIMARY KEY (placa),\n",
        "  FOREIGN KEY(proprietario) REFERENCES Pessoas(cpf),\n",
        "  FOREIGN KEY(marca) REFERENCES Marca(id)\n",
        "); '''\n",
        "\n",
        "cursor.execute(comando)\n",
        "\n",
        "conexao.commit()\n",
        "\n",
        "cursor.close()\n",
        "conexao.close()"
      ],
      "metadata": {
        "id": "mUyJeStgYA_p"
      },
      "execution_count": null,
      "outputs": []
    },
    {
      "cell_type": "markdown",
      "source": [
        "#ALTERAÇÃO E REMOÇÃO DE TABELA\n",
        "Neste momento, temos o nosso banco com as três tabelas\n",
        "\n",
        "Durante o desenvolvimento, pode ser necessário realizar alterações no nosso modelo e, consequentemente, nas nossas tabelas. Nesta parte do módulo, vamos ver como podemos fazer para adicionar um novo atributo e como fazemos para remover uma tabela.\n",
        "\n",
        "Para alterar uma tabela e adicionar um novo atributo, precisamos utilizar o comando ALTER TABLE do SQL.\n",
        "\n",
        "Para ilustrar, vamos adicionar mais um atributo à entidade Veiculo.\n",
        "\n",
        "O atributo se chama motor e corresponde à motorização do carro: 1.0, 1.4, 2.0 etc. Esse atributo deverá conter pontos flutuantes e, por isso, vamos defini-lo como do tipo REAL.\n",
        "\n",
        "Para alterar a tabela Veículo e adicionar a coluna motor, utilizamos o seguinte comando SQL."
      ],
      "metadata": {
        "id": "15iVnFcAZYhh"
      }
    },
    {
      "cell_type": "code",
      "source": [
        "'''\n",
        "ALTER TABLE Veiculo\n",
        "ADD motor REAL;\n",
        "'''"
      ],
      "metadata": {
        "id": "qi25Zwu6Z3B4"
      },
      "execution_count": null,
      "outputs": []
    },
    {
      "cell_type": "code",
      "source": [
        "conexao = conector.connect('./meu_banco.db')\n",
        "cursor = conexao.cursor()\n",
        "\n",
        "comando = '''ALTER TABLE Veiculo ADD motor REAL; '''\n",
        "\n",
        "cursor.execute(comando)\n",
        "\n",
        "conexao.commit()\n",
        "\n",
        "cursor.close()\n",
        "conexao.close()"
      ],
      "metadata": {
        "id": "0lI8EX_VZ75H"
      },
      "execution_count": null,
      "outputs": []
    },
    {
      "cell_type": "markdown",
      "source": [
        "Excluir tabela para recriar na sequencia certa"
      ],
      "metadata": {
        "id": "0JlxH2bfen6C"
      }
    },
    {
      "cell_type": "code",
      "source": [
        "conexao = conector.connect('./meu_banco.db')\n",
        "cursor = conexao.cursor()\n",
        "\n",
        "comando1 = ''' DROP TABLE Veiculo '''\n",
        "\n",
        "cursor.execute(comando1)\n"
      ],
      "metadata": {
        "id": "0Tc_En_4erQo"
      },
      "execution_count": null,
      "outputs": []
    },
    {
      "cell_type": "code",
      "source": [
        "comando2 = '''CREATE TABLE Veiculos (\n",
        "  placa CHARACTER(7) NOT NULL,\n",
        "  ano INTEGER NOT NULL,\n",
        "  cor TEXT NOT NULL,\n",
        "  motor REAL NOT NULL,\n",
        "  proprietario INTEGER NOT NULL,\n",
        "  marca INTEGER NOT NULL,\n",
        "  PRIMARY KEY (placa),\n",
        "  FOREIGN KEY(proprietario) REFERENCES Pessoa(cpf)\n",
        "  FOREIGN KEY(marca) REFERENCES Marca(id)\n",
        ") '''\n",
        "\n",
        "cursor.execute(comando2)\n",
        "\n",
        "conexao.commit()\n",
        "\n",
        "cursor.close()\n",
        "conexao.close()"
      ],
      "metadata": {
        "id": "tx3vtTOEfaYw"
      },
      "execution_count": null,
      "outputs": []
    },
    {
      "cell_type": "code",
      "source": [
        "# Comando SQL para visualizar tabelas\n",
        "comando_sql = '''\n",
        "    SELECT name FROM sqlite_master WHERE type='table' ORDER BY name\n",
        "'''\n",
        "# Abertura de conexão e aquisição de cursor\n",
        "conexao = conector.connect(\"./meu_banco.db\")\n",
        "cursor = conexao.cursor()\n",
        "\n",
        "# Executar o comando SQL\n",
        "print(cursor.execute(comando_sql))\n",
        "\n",
        "# Obter todos os resultados da consulta\n",
        "tabelas = cursor.fetchall()\n",
        "\n",
        "# Exibir os nomes de todas as tabelas\n",
        "for tabela in tabelas:\n",
        "    print(tabela[0])\n",
        "\n",
        "#Fechando conexão\n",
        "cursor.close()\n",
        "conexao.close()"
      ],
      "metadata": {
        "colab": {
          "base_uri": "https://localhost:8080/"
        },
        "id": "vXb8tTPgganC",
        "outputId": "311ce77c-a659-4af3-f7f9-e4e0d3f4070e"
      },
      "execution_count": null,
      "outputs": [
        {
          "output_type": "stream",
          "name": "stdout",
          "text": [
            "<sqlite3.Cursor object at 0x7ecaeb0c78c0>\n",
            "Marca\n",
            "Pessoa\n",
            "Veiculos\n"
          ]
        }
      ]
    },
    {
      "cell_type": "markdown",
      "source": [
        "Agora as tabelas estão criadas e relacionadas"
      ],
      "metadata": {
        "id": "HdbDjNo3gw9R"
      }
    }
  ]
}